{
  "nbformat": 4,
  "nbformat_minor": 0,
  "metadata": {
    "colab": {
      "name": "ArtificialIntelligenceSearching.ipynb",
      "provenance": [],
      "authorship_tag": "ABX9TyOR/6fI6QvL//LKiJiWdnO9",
      "include_colab_link": true
    },
    "kernelspec": {
      "name": "python3",
      "display_name": "Python 3"
    },
    "language_info": {
      "name": "python"
    }
  },
  "cells": [
    {
      "cell_type": "markdown",
      "metadata": {
        "id": "view-in-github",
        "colab_type": "text"
      },
      "source": [
        "<a href=\"https://colab.research.google.com/github/mubinui/SearchingAI/blob/main/ArtificialIntelligenceSearching.ipynb\" target=\"_parent\"><img src=\"https://colab.research.google.com/assets/colab-badge.svg\" alt=\"Open In Colab\"/></a>"
      ]
    },
    {
      "cell_type": "code",
      "metadata": {
        "id": "vHpNBi_6HIg_"
      },
      "source": [
        "class Node:\n",
        "    def __init__(self,data=None,priority=None):\n",
        "        self.data = data\n",
        "        self.next = None\n",
        "        self.prev = None\n",
        "        self.priority = priority\n",
        "        "
      ],
      "execution_count": null,
      "outputs": []
    },
    {
      "cell_type": "code",
      "metadata": {
        "id": "cLdEN7CMH85Y"
      },
      "source": [
        "#LinkedList \n",
        "class LinkedList:\n",
        "    def __init__ (self):\n",
        "        self.head = Node(None)\n",
        "        self.tail = Node(None)\n",
        "        self.length = 0\n",
        "    \n",
        "    def size(self):\n",
        "        return self.length\n",
        "    \n",
        "    def isEmpty(self):\n",
        "        return self.size()==0\n",
        "\n",
        "    def add(self,data,priority):\n",
        "        x = Node(data,priority)\n",
        "        if self.isEmpty():\n",
        "            self.head = x \n",
        "            self.tail = self.head\n",
        "\n",
        "        else:        \n",
        "            x.prev = self.tail\n",
        "            self.tail.next = x\n",
        "            self.tail = self.tail.next\n",
        "            \n",
        "        self.length += 1\n",
        "        \n",
        "\n",
        "            \n",
        "\n"
      ],
      "execution_count": null,
      "outputs": []
    },
    {
      "cell_type": "code",
      "metadata": {
        "id": "w1TwmxO-ZH8z"
      },
      "source": [
        "# Priority Queue\n",
        "class Queue:\n",
        "    def __init__(self):\n",
        "        self.head = Node(None)\n",
        "        self.tail = Node(None)\n",
        "        self.length = 0\n",
        "        self.front = -1\n",
        "        self.rear = -1 \n",
        "\n",
        "\n",
        "    def size(self):\n",
        "        return self.length\n",
        "\n",
        "    def isEmpty(self):\n",
        "        return self.size() == 0\n",
        "\n",
        "    \n",
        "    def enqueue(self,data,priority):\n",
        "        x = Node(data,priority)\n",
        "        if self.isEmpty():\n",
        "            self.head = x \n",
        "            self.tail = self.head\n",
        "            \n",
        "            self.front = 0\n",
        "           \n",
        "        else:\n",
        "            pr = x.priority\n",
        "\n",
        "            if pr >= self.tail.priority:\n",
        "                self.tail.next = x \n",
        "                self.tail = self.tail.next\n",
        "                \n",
        "            \n",
        "            elif pr> self.head.priority:\n",
        "                pos = self.head\n",
        "                for i in range(self.size()):\n",
        "                    if (pos.next.priority>pr):\n",
        "                        break \n",
        "                    pos = pos.next\n",
        "               \n",
        "                y = pos.next\n",
        "                pos.next = x \n",
        "                x.next = y\n",
        "                \n",
        "            elif pr<= self.head.priority:\n",
        "                newhead = x \n",
        "                x.next = self.head\n",
        "                self.head = x \n",
        "\n",
        "        self.length += 1\n",
        "        self.rear += 1\n",
        "\n",
        "\n",
        "    def dequeue (self):\n",
        "        x = None\n",
        "\n",
        "        if self.isEmpty():\n",
        "            raise Exception\n",
        "        \n",
        "        else:\n",
        "            old_head = self.head\n",
        "            x = old_head.data\n",
        "            self.head = self.head.next\n",
        "            old_head = None\n",
        "\n",
        "        self.front += 1 \n",
        "        self.length -= 1\n",
        "\n",
        "        \n",
        "        return x \n",
        "\n",
        "\n",
        "\n",
        "    def peek(self):\n",
        "        x = None\n",
        "        if self.isEmpty():\n",
        "            raise Exception\n",
        "        \n",
        "        else:\n",
        "            x = self.head.data\n",
        "        \n",
        "        return x \n",
        "    \n",
        "\n",
        "    def printList(self):\n",
        "        node = self.head\n",
        "        for i in range(self.size()):\n",
        "            print(node.data,node.priority,end=' ')\n",
        "            node = node.next\n",
        "        print()\n"
      ],
      "execution_count": null,
      "outputs": []
    },
    {
      "cell_type": "code",
      "metadata": {
        "id": "Cc3ZoT_pBM61"
      },
      "source": [
        "#Uniform Cost Search \n",
        "class Graph:\n",
        "    def __init__(self,v):\n",
        "        self.v = v\n",
        "        self.adjList = [None]*self.v\n",
        "\n",
        "        for i in range(self.v):\n",
        "            self.adjList[i] = LinkedList()\n",
        "        \n",
        "    \n",
        "    def addEdge(self,src , dest ):\n",
        "        self.adjList[src].\n",
        "\n",
        "        \n",
        "\n",
        "\n"
      ],
      "execution_count": null,
      "outputs": []
    },
    {
      "cell_type": "code",
      "metadata": {
        "colab": {
          "base_uri": "https://localhost:8080/"
        },
        "id": "3uRlHMUCJsYO",
        "outputId": "b6bed06d-5d66-4ea7-9ad1-ab4e07b7be8f"
      },
      "source": [
        "#Doubly Linked list\n",
        "# Linked List tester \n",
        "\n",
        "n1 = Node(\"Mubin\",1)\n",
        "n2 = Node(\"Samindra\",2)\n",
        "n3 = Node (\"Kaily\",3)\n",
        "n4 = Node(\"Porimoni\",4)\n",
        "\n",
        "n1.next = n2 \n",
        "n2.next = n3\n",
        "n3.next = n4 \n",
        "n2.prev = n1\n",
        "n3.prev = n2\n",
        "n4.prev = n2 \n",
        "\n",
        "print(n1)\n",
        "print(n1.data,n1.priority)\n",
        "print(n1.next.next.next.data)\n"
      ],
      "execution_count": null,
      "outputs": [
        {
          "output_type": "stream",
          "text": [
            "<__main__.Node object at 0x7f23835a1250>\n",
            "Mubin 1\n",
            "Porimoni\n"
          ],
          "name": "stdout"
        }
      ]
    },
    {
      "cell_type": "code",
      "metadata": {
        "colab": {
          "base_uri": "https://localhost:8080/"
        },
        "id": "LF3aKq6lCVYP",
        "outputId": "b208a3dd-6c4c-42d1-b1b3-4e82fcb7ad40"
      },
      "source": [
        "q1 = Queue()\n",
        "q1.enqueue(\"Mubin\",1)\n",
        "q1.enqueue(\"Sdra\",4)\n",
        "q1.enqueue(\"Kaily\",3)\n",
        "q1.enqueue(\"Porimoni\",2)\n",
        "q1.printList()\n",
        "q1.enqueue(\"Mia\",6)\n",
        "q1.enqueue(\"Lia\",10)\n",
        "q1.enqueue(\"Jia\",9)\n",
        "q1.enqueue(\"Sia\",8)\n",
        "q1.enqueue(\"Dia\",5)\n",
        "q1.enqueue(\"Aia\",7)\n",
        "q1.printList()\n",
        "print(q1.dequeue())\n",
        "print(q1.dequeue())\n",
        "print(q1.dequeue())\n",
        "print(q1.isEmpty())\n",
        "print(q1.size())\n",
        "print(q1.peek())\n",
        "q1.printList()\n",
        "q1.enqueue(\"Mubin\",1)\n",
        "q1.enqueue(\"UIC\",1)\n",
        "q1.enqueue(\"Samindra\",11)\n",
        "q1.enqueue(\"Radha\",3)\n",
        "q1.printList()\n"
      ],
      "execution_count": null,
      "outputs": [
        {
          "output_type": "stream",
          "text": [
            "Mubin 1 Porimoni 2 Kaily 3 Sdra 4 \n",
            "Mubin 1 Porimoni 2 Kaily 3 Sdra 4 Dia 5 Mia 6 Aia 7 Sia 8 Jia 9 Lia 10 \n",
            "Mubin\n",
            "Porimoni\n",
            "Kaily\n",
            "False\n",
            "7\n",
            "Sdra\n",
            "Sdra 4 Dia 5 Mia 6 Aia 7 Sia 8 Jia 9 Lia 10 \n",
            "UIC 1 Mubin 1 Radha 3 Sdra 4 Dia 5 Mia 6 Aia 7 Sia 8 Jia 9 Lia 10 Samindra 11 \n"
          ],
          "name": "stdout"
        }
      ]
    }
  ]
}