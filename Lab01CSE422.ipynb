{
  "nbformat": 4,
  "nbformat_minor": 0,
  "metadata": {
    "colab": {
      "name": "Lab01CSE422.ipynb",
      "provenance": [],
      "authorship_tag": "ABX9TyPgWUCIxTI+37MoheOLkiix",
      "include_colab_link": true
    },
    "kernelspec": {
      "name": "python3",
      "display_name": "Python 3"
    },
    "language_info": {
      "name": "python"
    }
  },
  "cells": [
    {
      "cell_type": "markdown",
      "metadata": {
        "id": "view-in-github",
        "colab_type": "text"
      },
      "source": [
        "<a href=\"https://colab.research.google.com/github/mubinui/SearchingAI/blob/main/Lab01CSE422.ipynb\" target=\"_parent\"><img src=\"https://colab.research.google.com/assets/colab-badge.svg\" alt=\"Open In Colab\"/></a>"
      ]
    },
    {
      "cell_type": "code",
      "metadata": {
        "id": "rOj-Wqu08qru"
      },
      "source": [
        "class Node:\n",
        "    def __init__(self,data=None):\n",
        "        self.data = data \n",
        "        self.next = None\n",
        "\n"
      ],
      "execution_count": 30,
      "outputs": []
    },
    {
      "cell_type": "code",
      "metadata": {
        "id": "7Eo-BoYiwpSW"
      },
      "source": [
        "#Linked List\n",
        "class LinkedList:\n",
        "    def __init__(self):\n",
        "        self.head = Node(None)\n",
        "        self.tail = Node(None)\n",
        "        self.length = 0\n",
        "    \n",
        "        \n",
        "    def size(self):\n",
        "        return self.length\n",
        "\n",
        "    \n",
        "    def isEmpty(self):\n",
        "        return self.size() == 0\n",
        "\n",
        "    def add(self,data):\n",
        "        node = Node(data)\n",
        "        if self.isEmpty():\n",
        "            self.head = node\n",
        "            self.tail = self.head\n",
        "        \n",
        "        else:\n",
        "            self.tail.next = node\n",
        "            self.tail = self.tail.next\n",
        "        \n",
        "        self.length += 1\n",
        "    \n",
        "    def printlist(self):\n",
        "        node = self.head\n",
        "        for i in range(self.size()):\n",
        "            print(\"->>\",node.data ,end=\" \")\n",
        "            node = node.next\n",
        "        \n",
        "        print()\n",
        "        \n",
        "    \n"
      ],
      "execution_count": null,
      "outputs": []
    },
    {
      "cell_type": "code",
      "metadata": {
        "id": "Id8G_i6fAJsN"
      },
      "source": [
        "class Queue:\n",
        "    def __init__(self):\n",
        "        self.head = Node(None)\n",
        "        self.tail = Node(None)\n",
        "        self.length = 0\n",
        "        self.front = -1\n",
        "        self.rear = -1\n",
        "\n",
        "    \n",
        "    def size(self):\n",
        "        return self.length\n",
        "\n",
        "    \n",
        "    def isEmpty(self):\n",
        "        return self.size() == 0\n",
        "\n",
        "    \n",
        "    def enqueue(self,data):\n",
        "        if self.isEmpty():\n",
        "            self.head = Node(data)\n",
        "            self.tail = self.head.next\n",
        "            self.tail = self.head\n",
        "            self.front = 0\n",
        "         \n",
        "        else:\n",
        "            n = Node(data)\n",
        "            self.tail.next = n\n",
        "            self.tail = self.tail.next\n",
        "\n",
        "        self.length += 1\n",
        "        self.rear += 1 \n",
        "\n",
        "\n",
        "    def dequeue(self):\n",
        "        x = None\n",
        "        if self.isEmpty():\n",
        "            raise Exception\n",
        "\n",
        "        else:\n",
        "            x = self.head.data\n",
        "            temp = self.head\n",
        "            self.head = self.head.next\n",
        "            temp = None\n",
        "\n",
        "            self.front -= 1\n",
        "            self.length -= 1\n",
        "        \n",
        "        return x \n",
        "  \n",
        "    def peek (self):\n",
        "        if self.isEmpty():\n",
        "            raise Exception\n",
        "        \n",
        "        else: \n",
        "            return self.head.data\n",
        "\n",
        "\n",
        "    def printlist(self):\n",
        "        node = self.head\n",
        "        for i in range(self.size()):\n",
        "            print(\"->>\",node.data ,end=\" \")\n",
        "            node = node.next\n",
        "        \n",
        "        print()\n",
        "    \n",
        "    \n",
        "\n"
      ],
      "execution_count": 32,
      "outputs": []
    },
    {
      "cell_type": "code",
      "metadata": {
        "id": "LpucbomFP_Nn"
      },
      "source": [
        "#Level01\n",
        "class Graph:\n",
        "    def __init__(self,v):\n",
        "        self.v = v\n",
        "        self.graph = [None] * self.v\n",
        "    \n",
        "    def addEdge(self, src ,dst ):\n",
        "        n = Node(dst)\n",
        "        n.next = self.graph[src]\n",
        "        self.graph[src] = n\n",
        "\n",
        "        n = Node(src)\n",
        "        n.next = self.graph[dst]\n",
        "        self.graph[dst] = n\n",
        "\n",
        "\n",
        "    \n",
        "    def BFS(self,start,end):\n",
        "        visited = [False]* self.v\n",
        "        dist = [None]*self.v\n",
        "\n",
        "        counter = 0\n",
        "        queue = Queue()\n",
        "        queue.enqueue(start)\n",
        "        visited[start] = True\n",
        "        dist[start] = 0\n",
        "\n",
        "        while not queue.isEmpty():\n",
        "            start = queue.dequeue()\n",
        "            print(start,end=\"->>\")\n",
        "            child_counter = 0\n",
        "            node = self.graph[start]\n",
        "            while node != None:\n",
        "                dta = int(node.data)\n",
        "                if not visited[dta]:\n",
        "                    queue.enqueue(dta)\n",
        "                    visited[dta] = True\n",
        "                    dist[dta]=dist[start] + 1 \n",
        "                node = node.next\n",
        "        \n",
        "        print()\n",
        "        return dist[end]\n",
        "                    \n",
        "\n",
        "            \n",
        "        \n"
      ],
      "execution_count": 39,
      "outputs": []
    },
    {
      "cell_type": "code",
      "metadata": {
        "colab": {
          "base_uri": "https://localhost:8080/"
        },
        "id": "qIhwIMONClof",
        "outputId": "2b0a497a-dea0-4cd3-9136-c9555827f49e"
      },
      "source": [
        "#Level One Tester \n",
        "#minimum move\n",
        "import  re\n",
        "\n",
        "f = open(\"/content/sample_data/Levelone.txt\",\"r\")\n",
        "txt = f.read()\n",
        "\n",
        "blist = re.split(\"\\s\",txt)\n",
        "\n",
        "vartics =int(blist[0])\n",
        "max_con = int(blist[1])\n",
        "\n",
        "\n",
        "graph = Graph(vartics)\n",
        "\n",
        "for i in range(2,(max_con*2)+2,2):\n",
        "    u = blist[i]\n",
        "    v = blist[i+1]\n",
        "    graph.addEdge(int(u),int(v))\n",
        "\n",
        "level = graph.BFS(0,int(blist[len(blist)-1]))\n",
        "print(level)"
      ],
      "execution_count": 43,
      "outputs": [
        {
          "output_type": "stream",
          "text": [
            "0->>3->>2->>1->>6->>5->>4->>7->>8->>\n",
            "2\n"
          ],
          "name": "stdout"
        }
      ]
    },
    {
      "cell_type": "code",
      "metadata": {
        "colab": {
          "base_uri": "https://localhost:8080/"
        },
        "id": "eiS-vGHlJGAz",
        "outputId": "2dc167ff-72f9-41d5-d243-4383fef52fdc"
      },
      "source": [
        "#Level Two Tester\n",
        "#Who is the winner\n",
        "import  re\n",
        "f = open(\"/content/sample_data/Leveltwo.txt\",\"r\")\n",
        "txt = f.read()\n",
        "\n",
        "blist = re.split(\"\\s\",txt)\n",
        "\n",
        "vartics =int(blist[0])\n",
        "max_con = int(blist[1])\n",
        "\n",
        "\n",
        "graph = Graph(vartics)\n",
        "\n",
        "for i in range(2,(max_con*2)+2,2):\n",
        "    u = blist[i]\n",
        "    v = blist[i+1]\n",
        "    graph.addEdge(int(u),int(v))\n",
        "\n",
        "x_Lina_position = int(blist[len(blist)-3])\n",
        "p_Nora_position = int(blist[len(blist)-2])\n",
        "q_Lara_position = int(blist[len(blist)-1])\n",
        "\n",
        "Nora_moves = graph.BFS(p_Nora_position,x_Lina_position)\n",
        "Lara_moves = graph.BFS(q_Lara_position,x_Lina_position)\n",
        "print(Nora_moves)\n",
        "print(Lara_moves)\n",
        "\n",
        "if Nora_moves < Lara_moves:\n",
        "    print(\"Nora is the winner\")\n",
        "else:\n",
        "    print(\"Lara is the winner\")\n"
      ],
      "execution_count": 42,
      "outputs": [
        {
          "output_type": "stream",
          "text": [
            "5->>6->>3->>7->>2->>1->>0->>8->>4->>\n",
            "3->>5->>2->>1->>0->>6->>4->>7->>8->>\n",
            "2\n",
            "3\n",
            "Nora is the winner\n"
          ],
          "name": "stdout"
        }
      ]
    },
    {
      "cell_type": "markdown",
      "metadata": {
        "id": "Frx2BIDNRfzL"
      },
      "source": [
        "Tester \n"
      ]
    },
    {
      "cell_type": "code",
      "metadata": {
        "id": "MzgNjsutRhva",
        "colab": {
          "base_uri": "https://localhost:8080/"
        },
        "outputId": "befddaf7-eda8-4085-ae70-126abb38a624"
      },
      "source": [
        "#Queue tester\n",
        "q = Queue()\n",
        "#print(q.dequeue())\n",
        "print(q.size())\n",
        "print(q.isEmpty())\n",
        "q.enqueue(10)\n",
        "q.enqueue(20)\n",
        "q.enqueue(30)\n",
        "q.enqueue(40)\n",
        "q.enqueue(50)\n",
        "q.printlist()\n",
        "print(q.dequeue())\n",
        "print(q.size())\n",
        "print(q.isEmpty())0\n",
        "print(q.peek())\n",
        "#Linked List tester \n",
        "ll = LinkedList()\n",
        "ll.add(\"a\")\n",
        "ll.add(\"b\")\n",
        "ll.add(\"c\")\n",
        "ll.printlist()\n",
        "\n",
        "\n"
      ],
      "execution_count": null,
      "outputs": [
        {
          "output_type": "stream",
          "text": [
            "0\n",
            "True\n",
            "->> 10 ->> 20 ->> 30 ->> 40 ->> 50 \n",
            "10\n",
            "4\n",
            "False\n",
            "20\n",
            "->> a ->> b ->> c \n"
          ],
          "name": "stdout"
        }
      ]
    }
  ]
}